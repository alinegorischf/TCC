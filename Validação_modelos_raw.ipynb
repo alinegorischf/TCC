{
 "cells": [
  {
   "cell_type": "markdown",
   "id": "3e128858-ff04-4589-a1e2-28a809f33cf9",
   "metadata": {},
   "source": [
    "# Validação previsões"
   ]
  },
  {
   "cell_type": "code",
   "execution_count": 1,
   "id": "b2ec25ab-b035-4009-a459-7d453b9a3e53",
   "metadata": {},
   "outputs": [],
   "source": [
    "import pandas as pd\n",
    "import numpy as np\n",
    "import matplotlib.pyplot as plt"
   ]
  },
  {
   "cell_type": "markdown",
   "id": "56c870b0-f6d7-4c81-8493-261b88e7be4c",
   "metadata": {},
   "source": [
    "# Previsões dados tranformados"
   ]
  },
  {
   "cell_type": "markdown",
   "id": "01be1e0f-16dc-472f-8788-ada8dbca2d9e",
   "metadata": {},
   "source": [
    "## Exponential Smooth Forecast"
   ]
  },
  {
   "cell_type": "markdown",
   "id": "cb5d62f5-7b86-4874-b120-981ae947acff",
   "metadata": {},
   "source": [
    "### Resultados todas as regionais"
   ]
  },
  {
   "cell_type": "markdown",
   "id": "54c9392a-d68a-4513-8fda-a55f236709c2",
   "metadata": {},
   "source": [
    "#### Carregar dados"
   ]
  },
  {
   "cell_type": "code",
   "execution_count": 4,
   "id": "e64cf2a1-fbd2-4a0c-83ae-e03f32fe2c35",
   "metadata": {},
   "outputs": [],
   "source": [
    "df = pd.read_excel('res_raw_expo_regionais.xlsx')"
   ]
  },
  {
   "cell_type": "code",
   "execution_count": 2,
   "id": "329575dd-d656-4def-b66d-4d727764b2c5",
   "metadata": {},
   "outputs": [],
   "source": [
    "df = pd.read_excel('res_raw_expo_regionais.xlsx')"
   ]
  },
  {
   "cell_type": "code",
   "execution_count": 3,
   "id": "3fcf7b76-31d2-49b7-af79-dfa70f1b2d82",
   "metadata": {},
   "outputs": [],
   "source": [
    "#print(df.head())"
   ]
  },
  {
   "cell_type": "markdown",
   "id": "2b6b3e6c-9029-4d39-bd45-ba288301364b",
   "metadata": {},
   "source": [
    "####  Separar variáveis"
   ]
  },
  {
   "cell_type": "code",
   "execution_count": 6,
   "id": "28c60597-0019-4a54-b047-e3942744e60f",
   "metadata": {},
   "outputs": [],
   "source": [
    "# Separando as colunas de interesse\n",
    "value = df[\"VALUE\"]\n",
    "fitted = df[\"FITTED\"]\n",
    "residual = df[\"RESIDUAL\"]"
   ]
  },
  {
   "cell_type": "markdown",
   "id": "f72eecf0-a3b9-4cea-af83-c10f057ef9b2",
   "metadata": {},
   "source": [
    "#### Validações"
   ]
  },
  {
   "cell_type": "code",
   "execution_count": 7,
   "id": "03d248bc-9dc4-4c29-b5d6-21923648fff2",
   "metadata": {},
   "outputs": [
    {
     "name": "stdout",
     "output_type": "stream",
     "text": [
      "MAPE: 6.157261896377631\n",
      "R²: 0.9757068343531133\n",
      "RMSE: 10.098521454510182\n",
      "MAE: 5.802809059923465\n",
      "R² Ajustado: 0.9757068313390563\n"
     ]
    }
   ],
   "source": [
    "# Cálculo do MAPE\n",
    "def calculate_mape(actual, predicted):\n",
    "    \"\"\"\n",
    "    Calcula o Erro Percentual Absoluto Médio (MAPE).\n",
    "\n",
    "    Args:\n",
    "        actual (array): Valores reais.\n",
    "        predicted (array): Valores previstos.\n",
    "\n",
    "    Returns:\n",
    "        float: Valor do MAPE.\n",
    "    \"\"\"\n",
    "    return np.mean(np.abs((actual - predicted) / actual)) * 100\n",
    "\n",
    "# Cálculo do R²\n",
    "def calculate_r2(actual, predicted):\n",
    "    \"\"\"\n",
    "    Calcula o Coeficiente de Determinação (R²).\n",
    "\n",
    "    Args:\n",
    "        actual (array): Valores reais.\n",
    "        predicted (array): Valores previstos.\n",
    "\n",
    "    Returns:\n",
    "        float: Valor do R².\n",
    "    \"\"\"\n",
    "    mean_actual = np.mean(actual)\n",
    "    return 1 - np.sum((actual - predicted) ** 2) / np.sum((actual - mean_actual) ** 2)\n",
    "\n",
    "# Cálculo do RMSE\n",
    "def calculate_rmse(actual, predicted):\n",
    "    \"\"\"\n",
    "    Calcula o Erro Médio Quadrático (RMSE).\n",
    "\n",
    "    Args:\n",
    "        actual (array): Valores reais.\n",
    "        predicted (array): Valores previstos.\n",
    "\n",
    "    Returns:\n",
    "        float: Valor do RMSE.\n",
    "    \"\"\"\n",
    "    return np.sqrt(np.mean((actual - predicted) ** 2))\n",
    "\n",
    "# Cálculo do MAE\n",
    "def calculate_mae(actual, predicted):\n",
    "    \"\"\"\n",
    "    Calcula o Erro Absoluto Médio (MAE).\n",
    "\n",
    "    Args:\n",
    "        actual (array): Valores reais.\n",
    "        predicted (array): Valores previstos.\n",
    "\n",
    "    Returns:\n",
    "        float: Valor do MAE.\n",
    "    \"\"\"\n",
    "    return np.mean(np.abs(actual - predicted))\n",
    "\n",
    "# Cálculo do R² Ajustado\n",
    "def calculate_adjusted_r2(actual, predicted, k):\n",
    "    \"\"\"\n",
    "    Calcula o Coeficiente de Determinação Ajustado (R² Ajustado).\n",
    "\n",
    "    Args:\n",
    "        actual (array): Valores reais.\n",
    "        predicted (array): Valores previstos.\n",
    "        k (int): Número de parâmetros do modelo.\n",
    "\n",
    "    Returns:\n",
    "        float: Valor do R² Ajustado.\n",
    "    \"\"\"\n",
    "    n = len(actual)\n",
    "    return 1 - (np.sum((actual - predicted) ** 2) / (np.sum((actual - np.mean(actual)) ** 2) - k))\n",
    "\n",
    "# Calculando as métricas\n",
    "mape = calculate_mape(value, fitted)\n",
    "r2 = calculate_r2(value, fitted)\n",
    "rmse = calculate_rmse(value, fitted)\n",
    "mae = calculate_mae(value, fitted)\n",
    "adjusted_r2 = calculate_adjusted_r2(value, fitted, 1)  # Substitua 'k' pelo número de parâmetros do seu modelo\n",
    "\n",
    "# Mostrando os resultados\n",
    "print(\"MAPE:\", mape)\n",
    "print(\"R²:\", r2)\n",
    "print(\"RMSE:\", rmse)\n",
    "print(\"MAE:\", mae)\n",
    "print(\"R² Ajustado:\", adjusted_r2)\n"
   ]
  },
  {
   "cell_type": "markdown",
   "id": "72b2d40b-7e31-4754-9e73-fb2f17ffe1fa",
   "metadata": {},
   "source": [
    "#### Vizualização"
   ]
  },
  {
   "cell_type": "code",
   "execution_count": 8,
   "id": "df828a33-997c-4dcd-a573-05ecd1678dbb",
   "metadata": {},
   "outputs": [
    {
     "data": {
      "image/png": "[encoded data removed]",
      "text/plain": [
       "<Figure size 640x480 with 1 Axes>"
      ]
     },
     "metadata": {},
     "output_type": "display_data"
    }
   ],
   "source": [
    "# Gráfico de dispersão\n",
    "plt.scatter(value, fitted)\n",
    "plt.xlabel(\"Valor Real\")\n",
    "plt.ylabel(\"Valor Previsto\")\n",
    "plt.title(\"Dispersão: Valor Real vs Valor Previsto\")\n",
    "plt.grid(True)\n",
    "plt.show()\n"
   ]
  },
  {
   "cell_type": "markdown",
   "id": "a4799cbc-b95e-4167-aeb0-c029f362b3cc",
   "metadata": {},
   "source": [
    "### Resultado Matriz"
   ]
  },
  {
   "cell_type": "markdown",
   "id": "79e673de-b877-42b4-8fcd-04d6c09c10db",
   "metadata": {},
   "source": [
    "#### Carregar dados"
   ]
  },
  {
   "cell_type": "code",
   "execution_count": 14,
   "id": "5605814f-f684-4f18-ade2-a4931a5f6a63",
   "metadata": {},
   "outputs": [],
   "source": [
    "df = pd.read_excel('res_raw_expo_matriz.xlsx')"
   ]
  },
  {
   "cell_type": "code",
   "execution_count": 4,
   "id": "d38410b4-0025-4db6-b119-2d9583fc18a0",
   "metadata": {},
   "outputs": [],
   "source": [
    "#print(df.head())"
   ]
  },
  {
   "cell_type": "markdown",
   "id": "c415aaee-57bf-4cf8-be6d-caaec47ab181",
   "metadata": {},
   "source": [
    "#### Separar variáveis"
   ]
  },
  {
   "cell_type": "code",
   "execution_count": 16,
   "id": "2e96dedc-5dbb-477e-9250-502fe197e70c",
   "metadata": {},
   "outputs": [],
   "source": [
    "# Separando as colunas de interesse\n",
    "value = df[\"VALUE\"]\n",
    "fitted = df[\"FITTED\"]\n",
    "residual = df[\"RESIDUAL\"]"
   ]
  },
  {
   "cell_type": "code",
   "execution_count": null,
   "id": "d833ce1c-3ee8-4936-a192-4a7328d79222",
   "metadata": {},
   "outputs": [],
   "source": []
  },
  {
   "cell_type": "markdown",
   "id": "c0467939-3457-45a0-84ba-35b4b00d22a1",
   "metadata": {},
   "source": [
    "#### Validações"
   ]
  },
  {
   "cell_type": "code",
   "execution_count": 17,
   "id": "9b7c5020-923d-4e8b-ada3-7e584bb4e660",
   "metadata": {},
   "outputs": [
    {
     "name": "stdout",
     "output_type": "stream",
     "text": [
      "MAPE: 5.004297742334665\n",
      "R²: 0.9128956977115388\n",
      "RMSE: 17.49104912027666\n",
      "MAE: 11.015698350893118\n",
      "R² Ajustado: 0.9128955685459259\n"
     ]
    }
   ],
   "source": [
    "# Cálculo do MAPE\n",
    "def calculate_mape(actual, predicted):\n",
    "    \"\"\"\n",
    "    Calcula o Erro Percentual Absoluto Médio (MAPE).\n",
    "\n",
    "    Args:\n",
    "        actual (array): Valores reais.\n",
    "        predicted (array): Valores previstos.\n",
    "\n",
    "    Returns:\n",
    "        float: Valor do MAPE.\n",
    "    \"\"\"\n",
    "    return np.mean(np.abs((actual - predicted) / actual)) * 100\n",
    "\n",
    "# Cálculo do R²\n",
    "def calculate_r2(actual, predicted):\n",
    "    \"\"\"\n",
    "    Calcula o Coeficiente de Determinação (R²).\n",
    "\n",
    "    Args:\n",
    "        actual (array): Valores reais.\n",
    "        predicted (array): Valores previstos.\n",
    "\n",
    "    Returns:\n",
    "        float: Valor do R².\n",
    "    \"\"\"\n",
    "    mean_actual = np.mean(actual)\n",
    "    return 1 - np.sum((actual - predicted) ** 2) / np.sum((actual - mean_actual) ** 2)\n",
    "\n",
    "# Cálculo do RMSE\n",
    "def calculate_rmse(actual, predicted):\n",
    "    \"\"\"\n",
    "    Calcula o Erro Médio Quadrático (RMSE).\n",
    "\n",
    "    Args:\n",
    "        actual (array): Valores reais.\n",
    "        predicted (array): Valores previstos.\n",
    "\n",
    "    Returns:\n",
    "        float: Valor do RMSE.\n",
    "    \"\"\"\n",
    "    return np.sqrt(np.mean((actual - predicted) ** 2))\n",
    "\n",
    "# Cálculo do MAE\n",
    "def calculate_mae(actual, predicted):\n",
    "    \"\"\"\n",
    "    Calcula o Erro Absoluto Médio (MAE).\n",
    "\n",
    "    Args:\n",
    "        actual (array): Valores reais.\n",
    "        predicted (array): Valores previstos.\n",
    "\n",
    "    Returns:\n",
    "        float: Valor do MAE.\n",
    "    \"\"\"\n",
    "    return np.mean(np.abs(actual - predicted))\n",
    "\n",
    "# Cálculo do R² Ajustado\n",
    "def calculate_adjusted_r2(actual, predicted, k):\n",
    "    \"\"\"\n",
    "    Calcula o Coeficiente de Determinação Ajustado (R² Ajustado).\n",
    "\n",
    "    Args:\n",
    "        actual (array): Valores reais.\n",
    "        predicted (array): Valores previstos.\n",
    "        k (int): Número de parâmetros do modelo.\n",
    "\n",
    "    Returns:\n",
    "        float: Valor do R² Ajustado.\n",
    "    \"\"\"\n",
    "    n = len(actual)\n",
    "    return 1 - (np.sum((actual - predicted) ** 2) / (np.sum((actual - np.mean(actual)) ** 2) - k))\n",
    "\n",
    "# Calculando as métricas\n",
    "mape = calculate_mape(value, fitted)\n",
    "r2 = calculate_r2(value, fitted)\n",
    "rmse = calculate_rmse(value, fitted)\n",
    "mae = calculate_mae(value, fitted)\n",
    "adjusted_r2 = calculate_adjusted_r2(value, fitted, 1)  # Substitua 'k' pelo número de parâmetros do seu modelo\n",
    "\n",
    "# Mostrando os resultados\n",
    "print(\"MAPE:\", mape)\n",
    "print(\"R²:\", r2)\n",
    "print(\"RMSE:\", rmse)\n",
    "print(\"MAE:\", mae)\n",
    "print(\"R² Ajustado:\", adjusted_r2)"
   ]
  },
  {
   "cell_type": "code",
   "execution_count": 5,
   "id": "e2293883-3226-429f-9ca5-4ca4f34ef0d8",
   "metadata": {},
   "outputs": [],
   "source": [
    "df = pd.read_excel('res_raw_expo_boa_vista.xlsx')"
   ]
  },
  {
   "cell_type": "code",
   "execution_count": 18,
   "id": "61ef7955-3c6a-4a55-9a38-ba01fce3135c",
   "metadata": {},
   "outputs": [
    {
     "data": {
      "image/png": "[encoded data removed]",
      "text/plain": [
       "<Figure size 640x480 with 1 Axes>"
      ]
     },
     "metadata": {},
     "output_type": "display_data"
    }
   ],
   "source": [
    "# Gráfico de dispersão\n",
    "plt.scatter(value, fitted)\n",
    "plt.xlabel(\"Valor Real\")\n",
    "plt.ylabel(\"Valor Previsto\")\n",
    "plt.title(\"Dispersão: Valor Real vs Valor Previsto\")\n",
    "plt.grid(True)\n",
    "plt.show()"
   ]
  },
  {
   "cell_type": "code",
   "execution_count": 6,
   "id": "d0b76ab2-8657-4ca7-bfdc-39cf564b7149",
   "metadata": {},
   "outputs": [],
   "source": [
    "# Separando as colunas de interesse\n",
    "value = df[\"VALUE\"]\n",
    "fitted = df[\"FITTED\"]\n",
    "residual = df[\"RESIDUAL\"]"
   ]
  },
  {
   "cell_type": "code",
   "execution_count": 7,
   "id": "c9207b54-6b40-4e9f-871b-32f257feded5",
   "metadata": {},
   "outputs": [
    {
     "name": "stdout",
     "output_type": "stream",
     "text": [
      "MAPE: 5.793247065902412\n",
      "R²: 0.8471194480337502\n",
      "RMSE: 15.60703468520104\n",
      "MAE: 9.475924478584634\n",
      "R² Ajustado: 0.8471189482709987\n"
     ]
    }
   ],
   "source": [
    "# Cálculo do MAPE\n",
    "def calculate_mape(actual, predicted):\n",
    "    \"\"\"\n",
    "    Calcula o Erro Percentual Absoluto Médio (MAPE).\n",
    "\n",
    "    Args:\n",
    "        actual (array): Valores reais.\n",
    "        predicted (array): Valores previstos.\n",
    "\n",
    "    Returns:\n",
    "        float: Valor do MAPE.\n",
    "    \"\"\"\n",
    "    return np.mean(np.abs((actual - predicted) / actual)) * 100\n",
    "\n",
    "# Cálculo do R²\n",
    "def calculate_r2(actual, predicted):\n",
    "    \"\"\"\n",
    "    Calcula o Coeficiente de Determinação (R²).\n",
    "\n",
    "    Args:\n",
    "        actual (array): Valores reais.\n",
    "        predicted (array): Valores previstos.\n",
    "\n",
    "    Returns:\n",
    "        float: Valor do R².\n",
    "    \"\"\"\n",
    "    mean_actual = np.mean(actual)\n",
    "    return 1 - np.sum((actual - predicted) ** 2) / np.sum((actual - mean_actual) ** 2)\n",
    "\n",
    "# Cálculo do RMSE\n",
    "def calculate_rmse(actual, predicted):\n",
    "    \"\"\"\n",
    "    Calcula o Erro Médio Quadrático (RMSE).\n",
    "\n",
    "    Args:\n",
    "        actual (array): Valores reais.\n",
    "        predicted (array): Valores previstos.\n",
    "\n",
    "    Returns:\n",
    "        float: Valor do RMSE.\n",
    "    \"\"\"\n",
    "    return np.sqrt(np.mean((actual - predicted) ** 2))\n",
    "\n",
    "# Cálculo do MAE\n",
    "def calculate_mae(actual, predicted):\n",
    "    \"\"\"\n",
    "    Calcula o Erro Absoluto Médio (MAE).\n",
    "\n",
    "    Args:\n",
    "        actual (array): Valores reais.\n",
    "        predicted (array): Valores previstos.\n",
    "\n",
    "    Returns:\n",
    "        float: Valor do MAE.\n",
    "    \"\"\"\n",
    "    return np.mean(np.abs(actual - predicted))\n",
    "\n",
    "# Cálculo do R² Ajustado\n",
    "def calculate_adjusted_r2(actual, predicted, k):\n",
    "    \"\"\"\n",
    "    Calcula o Coeficiente de Determinação Ajustado (R² Ajustado).\n",
    "\n",
    "    Args:\n",
    "        actual (array): Valores reais.\n",
    "        predicted (array): Valores previstos.\n",
    "        k (int): Número de parâmetros do modelo.\n",
    "\n",
    "    Returns:\n",
    "        float: Valor do R² Ajustado.\n",
    "    \"\"\"\n",
    "    n = len(actual)\n",
    "    return 1 - (np.sum((actual - predicted) ** 2) / (np.sum((actual - np.mean(actual)) ** 2) - k))\n",
    "\n",
    "# Calculando as métricas\n",
    "mape = calculate_mape(value, fitted)\n",
    "r2 = calculate_r2(value, fitted)\n",
    "rmse = calculate_rmse(value, fitted)\n",
    "mae = calculate_mae(value, fitted)\n",
    "adjusted_r2 = calculate_adjusted_r2(value, fitted, 1)  # Substitua 'k' pelo número de parâmetros do seu modelo\n",
    "\n",
    "# Mostrando os resultados\n",
    "print(\"MAPE:\", mape)\n",
    "print(\"R²:\", r2)\n",
    "print(\"RMSE:\", rmse)\n",
    "print(\"MAE:\", mae)\n",
    "print(\"R² Ajustado:\", adjusted_r2)"
   ]
  },
  {
   "cell_type": "markdown",
   "id": "442b56f7-54de-4401-a545-6287c1aaf4bf",
   "metadata": {},
   "source": [
    "## Resultados Previsão Forest-Based-Forest"
   ]
  },
  {
   "cell_type": "markdown",
   "id": "3d7b00c1-6e1d-4046-a822-6f17018920f8",
   "metadata": {},
   "source": [
    "### Resultado todas as Regionais"
   ]
  },
  {
   "cell_type": "markdown",
   "id": "08da8a35-cda3-487a-bf89-3c094466b95b",
   "metadata": {},
   "source": [
    "#### Carregar dados"
   ]
  },
  {
   "cell_type": "code",
   "execution_count": 21,
   "id": "a532d4ce-5fe1-43fc-8e46-c08c1870f0fc",
   "metadata": {},
   "outputs": [],
   "source": [
    "df = pd.read_excel('res_raw_forest_regionais.xlsx')"
   ]
  },
  {
   "cell_type": "code",
   "execution_count": 22,
   "id": "51428793-e831-4ffa-a0d6-fc6fc483d2ab",
   "metadata": {},
   "outputs": [
    {
     "name": "stdout",
     "output_type": "stream",
     "text": [
      "   OBJECTID  TIME_STEP START_DATE            END_DATE   TIME_EXAG  ELEMENT  \\\n",
      "0         1          0 2009-01-01 2009-01-31 23:59:59    0.000000        0   \n",
      "1         2          1 2009-02-01 2009-02-28 23:59:59   66.023080       10   \n",
      "2         3          2 2009-03-01 2009-03-31 23:59:59  132.046159       20   \n",
      "3         4          3 2009-04-01 2009-04-30 23:59:59  198.069239       30   \n",
      "4         5          4 2009-05-01 2009-05-31 23:59:59  264.092318       40   \n",
      "\n",
      "   LOCATION  CD_REG  VALUE  FITTED  RESIDUAL  HIGH   LOW  OUTLIER  \n",
      "0         0      10   46.0    46.0       0.0  46.0  46.0        0  \n",
      "1         0      10   45.0    45.0       0.0  45.0  45.0        0  \n",
      "2         0      10   53.0    53.0       0.0  53.0  53.0        0  \n",
      "3         0      10   52.0    52.0       0.0  52.0  52.0        0  \n",
      "4         0      10   53.0    53.0       0.0  53.0  53.0        0  \n"
     ]
    }
   ],
   "source": [
    "print(df.head())"
   ]
  },
  {
   "cell_type": "markdown",
   "id": "14f54e9e-e421-4e96-a96f-811f20a8fbef",
   "metadata": {
    "jp-MarkdownHeadingCollapsed": true
   },
   "source": [
    "#### Separar variáveis"
   ]
  },
  {
   "cell_type": "code",
   "execution_count": 23,
   "id": "3e859a0f-416d-4fd6-8ab3-9d16c29568ce",
   "metadata": {},
   "outputs": [],
   "source": [
    "# Separando as colunas de interesse\n",
    "value = df[\"VALUE\"]\n",
    "fitted = df[\"FITTED\"]\n",
    "residual = df[\"RESIDUAL\"]"
   ]
  },
  {
   "cell_type": "markdown",
   "id": "5482971e-127c-4a7d-ad17-148a012db758",
   "metadata": {},
   "source": [
    "#### Validação"
   ]
  },
  {
   "cell_type": "code",
   "execution_count": 24,
   "id": "5c6d405c-8ea4-4f78-865c-bc469fc90f98",
   "metadata": {
    "scrolled": true
   },
   "outputs": [
    {
     "name": "stdout",
     "output_type": "stream",
     "text": [
      "MAPE: 1.8532441921140186\n",
      "R²: 0.9964981577201041\n",
      "RMSE: 3.8454483185504538\n",
      "MAE: 1.848438622401725\n",
      "R² Ajustado: 0.9964981572881894\n"
     ]
    }
   ],
   "source": [
    "# Cálculo do MAPE\n",
    "def calculate_mape(actual, predicted):\n",
    "    \"\"\"\n",
    "    Calcula o Erro Percentual Absoluto Médio (MAPE).\n",
    "\n",
    "    Args:\n",
    "        actual (array): Valores reais.\n",
    "        predicted (array): Valores previstos.\n",
    "\n",
    "    Returns:\n",
    "        float: Valor do MAPE.\n",
    "    \"\"\"\n",
    "    return np.mean(np.abs((actual - predicted) / actual)) * 100\n",
    "\n",
    "# Cálculo do R²\n",
    "def calculate_r2(actual, predicted):\n",
    "    \"\"\"\n",
    "    Calcula o Coeficiente de Determinação (R²).\n",
    "\n",
    "    Args:\n",
    "        actual (array): Valores reais.\n",
    "        predicted (array): Valores previstos.\n",
    "\n",
    "    Returns:\n",
    "        float: Valor do R².\n",
    "    \"\"\"\n",
    "    mean_actual = np.mean(actual)\n",
    "    return 1 - np.sum((actual - predicted) ** 2) / np.sum((actual - mean_actual) ** 2)\n",
    "\n",
    "# Cálculo do RMSE\n",
    "def calculate_rmse(actual, predicted):\n",
    "    \"\"\"\n",
    "    Calcula o Erro Médio Quadrático (RMSE).\n",
    "\n",
    "    Args:\n",
    "        actual (array): Valores reais.\n",
    "        predicted (array): Valores previstos.\n",
    "\n",
    "    Returns:\n",
    "        float: Valor do RMSE.\n",
    "    \"\"\"\n",
    "    return np.sqrt(np.mean((actual - predicted) ** 2))\n",
    "\n",
    "# Cálculo do MAE\n",
    "def calculate_mae(actual, predicted):\n",
    "    \"\"\"\n",
    "    Calcula o Erro Absoluto Médio (MAE).\n",
    "\n",
    "    Args:\n",
    "        actual (array): Valores reais.\n",
    "        predicted (array): Valores previstos.\n",
    "\n",
    "    Returns:\n",
    "        float: Valor do MAE.\n",
    "    \"\"\"\n",
    "    return np.mean(np.abs(actual - predicted))\n",
    "\n",
    "# Cálculo do R² Ajustado\n",
    "def calculate_adjusted_r2(actual, predicted, k):\n",
    "    \"\"\"\n",
    "    Calcula o Coeficiente de Determinação Ajustado (R² Ajustado).\n",
    "\n",
    "    Args:\n",
    "        actual (array): Valores reais.\n",
    "        predicted (array): Valores previstos.\n",
    "        k (int): Número de parâmetros do modelo.\n",
    "\n",
    "    Returns:\n",
    "        float: Valor do R² Ajustado.\n",
    "    \"\"\"\n",
    "    n = len(actual)\n",
    "    return 1 - (np.sum((actual - predicted) ** 2) / (np.sum((actual - np.mean(actual)) ** 2) - k))\n",
    "\n",
    "# Calculando as métricas\n",
    "mape = calculate_mape(value, fitted)\n",
    "r2 = calculate_r2(value, fitted)\n",
    "rmse = calculate_rmse(value, fitted)\n",
    "mae = calculate_mae(value, fitted)\n",
    "adjusted_r2 = calculate_adjusted_r2(value, fitted, 1)  # Substitua 'k' pelo número de parâmetros do seu modelo\n",
    "\n",
    "# Mostrando os resultados\n",
    "print(\"MAPE:\", mape)\n",
    "print(\"R²:\", r2)\n",
    "print(\"RMSE:\", rmse)\n",
    "print(\"MAE:\", mae)\n",
    "print(\"R² Ajustado:\", adjusted_r2)"
   ]
  },
  {
   "cell_type": "markdown",
   "id": "fe3236e3-b7b4-4115-9913-c04b686eb4bc",
   "metadata": {
    "jp-MarkdownHeadingCollapsed": true
   },
   "source": [
    "#### Vizualização"
   ]
  },
  {
   "cell_type": "code",
   "execution_count": 25,
   "id": "43e175d0-1f76-46ea-bd37-90a317bd959e",
   "metadata": {},
   "outputs": [
    {
     "data": {
      "image/png": "[encoded data removed]",
      "text/plain": [
       "<Figure size 640x480 with 1 Axes>"
      ]
     },
     "metadata": {},
     "output_type": "display_data"
    }
   ],
   "source": [
    "# Gráfico de dispersão\n",
    "plt.scatter(value, fitted)\n",
    "plt.xlabel(\"Valor Real\")\n",
    "plt.ylabel(\"Valor Previsto\")\n",
    "plt.title(\"Dispersão: Valor Real vs Valor Previsto\")\n",
    "plt.grid(True)\n",
    "plt.show()"
   ]
  },
  {
   "cell_type": "markdown",
   "id": "fd2174b2-aa8b-4f47-9630-643d29351370",
   "metadata": {},
   "source": [
    "### Resultado Matriz"
   ]
  },
  {
   "cell_type": "markdown",
   "id": "98fbff1a-bcfc-46fb-bf42-6635e18f20f0",
   "metadata": {},
   "source": [
    "#### Carregar dados"
   ]
  },
  {
   "cell_type": "code",
   "execution_count": 26,
   "id": "62d5b36b-c94e-44b3-a820-ec84590e26eb",
   "metadata": {},
   "outputs": [],
   "source": [
    "df = pd.read_excel('res_raw_forest_matriz.xlsx')"
   ]
  },
  {
   "cell_type": "code",
   "execution_count": 8,
   "id": "4fee6336-9f0d-43d8-9f6f-d295ec286ed5",
   "metadata": {},
   "outputs": [],
   "source": [
    "#print(df.head())"
   ]
  },
  {
   "cell_type": "markdown",
   "id": "5a5956b4-44a0-48c3-9dd7-3a2f76f2a16b",
   "metadata": {},
   "source": [
    "#### Separar variáveis"
   ]
  },
  {
   "cell_type": "code",
   "execution_count": 28,
   "id": "1fdfeb50-ceeb-4a5b-b893-b3f4e4f00904",
   "metadata": {},
   "outputs": [],
   "source": [
    "# Separando as colunas de interesse\n",
    "value = df[\"VALUE\"]\n",
    "fitted = df[\"FITTED\"]\n",
    "residual = df[\"RESIDUAL\"]"
   ]
  },
  {
   "cell_type": "markdown",
   "id": "12acfb99-842e-49db-b4da-0ae465488454",
   "metadata": {},
   "source": [
    "#### Validações"
   ]
  },
  {
   "cell_type": "code",
   "execution_count": 29,
   "id": "eea6208a-5b4d-4ee1-b267-8d1b40ca8362",
   "metadata": {},
   "outputs": [
    {
     "name": "stdout",
     "output_type": "stream",
     "text": [
      "MAPE: 1.4497314350867962\n",
      "R²: 0.9880361773740932\n",
      "RMSE: 6.211965858333669\n",
      "MAE: 3.4224566669481162\n",
      "R² Ajustado: 0.9880361580552427\n"
     ]
    }
   ],
   "source": [
    "# Cálculo do MAPE\n",
    "def calculate_mape(actual, predicted):\n",
    "    \"\"\"\n",
    "    Calcula o Erro Percentual Absoluto Médio (MAPE).\n",
    "\n",
    "    Args:\n",
    "        actual (array): Valores reais.\n",
    "        predicted (array): Valores previstos.\n",
    "\n",
    "    Returns:\n",
    "        float: Valor do MAPE.\n",
    "    \"\"\"\n",
    "    return np.mean(np.abs((actual - predicted) / actual)) * 100\n",
    "\n",
    "# Cálculo do R²\n",
    "def calculate_r2(actual, predicted):\n",
    "    \"\"\"\n",
    "    Calcula o Coeficiente de Determinação (R²).\n",
    "\n",
    "    Args:\n",
    "        actual (array): Valores reais.\n",
    "        predicted (array): Valores previstos.\n",
    "\n",
    "    Returns:\n",
    "        float: Valor do R².\n",
    "    \"\"\"\n",
    "    mean_actual = np.mean(actual)\n",
    "    return 1 - np.sum((actual - predicted) ** 2) / np.sum((actual - mean_actual) ** 2)\n",
    "\n",
    "# Cálculo do RMSE\n",
    "def calculate_rmse(actual, predicted):\n",
    "    \"\"\"\n",
    "    Calcula o Erro Médio Quadrático (RMSE).\n",
    "\n",
    "    Args:\n",
    "        actual (array): Valores reais.\n",
    "        predicted (array): Valores previstos.\n",
    "\n",
    "    Returns:\n",
    "        float: Valor do RMSE.\n",
    "    \"\"\"\n",
    "    return np.sqrt(np.mean((actual - predicted) ** 2))\n",
    "\n",
    "# Cálculo do MAE\n",
    "def calculate_mae(actual, predicted):\n",
    "    \"\"\"\n",
    "    Calcula o Erro Absoluto Médio (MAE).\n",
    "\n",
    "    Args:\n",
    "        actual (array): Valores reais.\n",
    "        predicted (array): Valores previstos.\n",
    "\n",
    "    Returns:\n",
    "        float: Valor do MAE.\n",
    "    \"\"\"\n",
    "    return np.mean(np.abs(actual - predicted))\n",
    "\n",
    "# Cálculo do R² Ajustado\n",
    "def calculate_adjusted_r2(actual, predicted, k):\n",
    "    \"\"\"\n",
    "    Calcula o Coeficiente de Determinação Ajustado (R² Ajustado).\n",
    "\n",
    "    Args:\n",
    "        actual (array): Valores reais.\n",
    "        predicted (array): Valores previstos.\n",
    "        k (int): Número de parâmetros do modelo.\n",
    "\n",
    "    Returns:\n",
    "        float: Valor do R² Ajustado.\n",
    "    \"\"\"\n",
    "    n = len(actual)\n",
    "    return 1 - (np.sum((actual - predicted) ** 2) / (np.sum((actual - np.mean(actual)) ** 2) - k))\n",
    "\n",
    "# Calculando as métricas\n",
    "mape = calculate_mape(value, fitted)\n",
    "r2 = calculate_r2(value, fitted)\n",
    "rmse = calculate_rmse(value, fitted)\n",
    "mae = calculate_mae(value, fitted)\n",
    "adjusted_r2 = calculate_adjusted_r2(value, fitted, 1)  # Substitua 'k' pelo número de parâmetros do seu modelo\n",
    "\n",
    "# Mostrando os resultados\n",
    "print(\"MAPE:\", mape)\n",
    "print(\"R²:\", r2)\n",
    "print(\"RMSE:\", rmse)\n",
    "print(\"MAE:\", mae)\n",
    "print(\"R² Ajustado:\", adjusted_r2)"
   ]
  },
  {
   "cell_type": "markdown",
   "id": "f2ef137d-8577-479e-9b5b-48711d598010",
   "metadata": {},
   "source": [
    "#### Vizualização"
   ]
  },
  {
   "cell_type": "code",
   "execution_count": 32,
   "id": "2ee5a1c4-f4a8-45bd-b460-e539112c288b",
   "metadata": {},
   "outputs": [
    {
     "data": {
      "image/png": "[encoded data removed]",
      "text/plain": [
       "<Figure size 640x480 with 1 Axes>"
      ]
     },
     "metadata": {},
     "output_type": "display_data"
    }
   ],
   "source": [
    "# Gráfico de dispersão\n",
    "plt.scatter(value, fitted)\n",
    "plt.xlabel(\"Valor Real\")\n",
    "plt.ylabel(\"Valor Previsto\")\n",
    "plt.title(\"Dispersão: Valor Real vs Valor Previsto\")\n",
    "plt.grid(True)\n",
    "plt.show()"
   ]
  },
  {
   "cell_type": "code",
   "execution_count": 9,
   "id": "69d0e35d-6339-4a99-94bf-772b1ec83376",
   "metadata": {},
   "outputs": [],
   "source": [
    "df = pd.read_excel('res_raw_forest_boa_vista.xlsx')"
   ]
  },
  {
   "cell_type": "code",
   "execution_count": 10,
   "id": "4dffc81c-34d4-48e7-9d0f-62c1adffda73",
   "metadata": {},
   "outputs": [],
   "source": [
    "# Separando as colunas de interesse\n",
    "value = df[\"VALUE\"]\n",
    "fitted = df[\"FITTED\"]\n",
    "residual = df[\"RESIDUAL\"]"
   ]
  },
  {
   "cell_type": "code",
   "execution_count": 11,
   "id": "df4b667f-efc9-4df4-b8c7-a161a01729c1",
   "metadata": {},
   "outputs": [
    {
     "name": "stdout",
     "output_type": "stream",
     "text": [
      "MAPE: 1.984364450182761\n",
      "R²: 0.9782902948957012\n",
      "RMSE: 6.256822048833744\n",
      "MAE: 3.31065816195483\n",
      "R² Ajustado: 0.9782902321909762\n"
     ]
    }
   ],
   "source": [
    "# Cálculo do MAPE\n",
    "def calculate_mape(actual, predicted):\n",
    "    \"\"\"\n",
    "    Calcula o Erro Percentual Absoluto Médio (MAPE).\n",
    "\n",
    "    Args:\n",
    "        actual (array): Valores reais.\n",
    "        predicted (array): Valores previstos.\n",
    "\n",
    "    Returns:\n",
    "        float: Valor do MAPE.\n",
    "    \"\"\"\n",
    "    return np.mean(np.abs((actual - predicted) / actual)) * 100\n",
    "\n",
    "# Cálculo do R²\n",
    "def calculate_r2(actual, predicted):\n",
    "    \"\"\"\n",
    "    Calcula o Coeficiente de Determinação (R²).\n",
    "\n",
    "    Args:\n",
    "        actual (array): Valores reais.\n",
    "        predicted (array): Valores previstos.\n",
    "\n",
    "    Returns:\n",
    "        float: Valor do R².\n",
    "    \"\"\"\n",
    "    mean_actual = np.mean(actual)\n",
    "    return 1 - np.sum((actual - predicted) ** 2) / np.sum((actual - mean_actual) ** 2)\n",
    "\n",
    "# Cálculo do RMSE\n",
    "def calculate_rmse(actual, predicted):\n",
    "    \"\"\"\n",
    "    Calcula o Erro Médio Quadrático (RMSE).\n",
    "\n",
    "    Args:\n",
    "        actual (array): Valores reais.\n",
    "        predicted (array): Valores previstos.\n",
    "\n",
    "    Returns:\n",
    "        float: Valor do RMSE.\n",
    "    \"\"\"\n",
    "    return np.sqrt(np.mean((actual - predicted) ** 2))\n",
    "\n",
    "# Cálculo do MAE\n",
    "def calculate_mae(actual, predicted):\n",
    "    \"\"\"\n",
    "    Calcula o Erro Absoluto Médio (MAE).\n",
    "\n",
    "    Args:\n",
    "        actual (array): Valores reais.\n",
    "        predicted (array): Valores previstos.\n",
    "\n",
    "    Returns:\n",
    "        float: Valor do MAE.\n",
    "    \"\"\"\n",
    "    return np.mean(np.abs(actual - predicted))\n",
    "\n",
    "# Cálculo do R² Ajustado\n",
    "def calculate_adjusted_r2(actual, predicted, k):\n",
    "    \"\"\"\n",
    "    Calcula o Coeficiente de Determinação Ajustado (R² Ajustado).\n",
    "\n",
    "    Args:\n",
    "        actual (array): Valores reais.\n",
    "        predicted (array): Valores previstos.\n",
    "        k (int): Número de parâmetros do modelo.\n",
    "\n",
    "    Returns:\n",
    "        float: Valor do R² Ajustado.\n",
    "    \"\"\"\n",
    "    n = len(actual)\n",
    "    return 1 - (np.sum((actual - predicted) ** 2) / (np.sum((actual - np.mean(actual)) ** 2) - k))\n",
    "\n",
    "# Calculando as métricas\n",
    "mape = calculate_mape(value, fitted)\n",
    "r2 = calculate_r2(value, fitted)\n",
    "rmse = calculate_rmse(value, fitted)\n",
    "mae = calculate_mae(value, fitted)\n",
    "adjusted_r2 = calculate_adjusted_r2(value, fitted, 1)  # Substitua 'k' pelo número de parâmetros do seu modelo\n",
    "\n",
    "# Mostrando os resultados\n",
    "print(\"MAPE:\", mape)\n",
    "print(\"R²:\", r2)\n",
    "print(\"RMSE:\", rmse)\n",
    "print(\"MAE:\", mae)\n",
    "print(\"R² Ajustado:\", adjusted_r2)"
   ]
  },
  {
   "cell_type": "code",
   "execution_count": null,
   "id": "28676260-3d3d-4c2c-a42c-0787472c1346",
   "metadata": {},
   "outputs": [],
   "source": []
  }
 ],
 "metadata": {
  "kernelspec": {
   "display_name": "Python 3 (ipykernel)",
   "language": "python",
   "name": "python3"
  },
  "language_info": {
   "codemirror_mode": {
    "name": "ipython",
    "version": 3
   },
   "file_extension": ".py",
   "mimetype": "text/x-python",
   "name": "python",
   "nbconvert_exporter": "python",
   "pygments_lexer": "ipython3",
   "version": "3.11.7"
  }
 },
 "nbformat": 4,
 "nbformat_minor": 5
}
